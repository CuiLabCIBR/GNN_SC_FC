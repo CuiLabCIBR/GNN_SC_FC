{
 "cells": [
  {
   "cell_type": "code",
   "execution_count": 6,
   "metadata": {
    "collapsed": true,
    "pycharm": {
     "name": "#%%\n"
    }
   },
   "outputs": [],
   "source": [
    "import sys\n",
    "sys.path.append(\"../functions\")\n",
    "import pickle\n",
    "from sklearn.model_selection import train_test_split\n",
    "import numpy as np\n",
    "import pandas as pd\n",
    "from utils import *\n",
    "import scipy.io as sio"
   ]
  },
  {
   "cell_type": "code",
   "execution_count": 7,
   "outputs": [],
   "source": [
    "dataset_type = 'ABCD' # select the dataset: HCPA, HCPD, ABCD\n",
    "SC_mask_type = 75 #  select the mask type: 25, 75\n",
    "\n",
    "\n",
    "with open(\n",
    "        '../data/info/SC_mask_' +str(SC_mask_type) + '.pickle',\n",
    "        'rb') as out_data:\n",
    "    (HCPA_sc_mask, HCPD_sc_mask, ABCD_sc_mask) = pickle.load(out_data)\n",
    "\n",
    "if dataset_type == 'HCPA':\n",
    "    try:\n",
    "        with open('../data/preprocessed_data/HCPA_SC_FC_reSC_info_245.pickle',\n",
    "                  'rb') as out_data:\n",
    "            (SC, FC, SC_re, info) = pickle.load(out_data)\n",
    "    except Exception:\n",
    "        # pandas package may report error for >2.0 version\n",
    "        (SC, FC, SC_re, info) = pd.read_pickle('../data/preprocessed_data/HCPA_SC_FC_reSC_info_245.pickle')\n",
    "\n",
    "    with open('../data/result_out/HCPA/GCN_dim128lr0.001b2ep400reg0.0001prelu.pickle', 'rb') as out_data:\n",
    "        predFC_train, predFC_test = pickle.load(out_data)\n",
    "    with open('../data/result_out/HCPA/rewired_GCN_dim128lr0.001b2ep400reg0.0001prelu.pickle', 'rb') as out_data:\n",
    "        predFC_train_re, predFC_test_re, predFC_test_re_rewTest = pickle.load(out_data)\n",
    "    SC_mask = HCPA_sc_mask\n",
    "\n",
    "elif dataset_type == 'HCPD':\n",
    "    try:\n",
    "        with open('../data/preprocessed_data/HCPD_SC_FC_reSC_info_410.pickle',\n",
    "                  'rb') as out_data:\n",
    "            (SC, FC, SC_re, info) = pickle.load(out_data)\n",
    "    except:\n",
    "        (SC, FC, SC_re, info) = pd.read_pickle('../data/preprocessed_data/HCPD_SC_FC_reSC_info_410.pickle')\n",
    "\n",
    "    with open('../data/result_out/HCPD/GCN_dim128lr0.001b2ep400reg0.0001prelu.pickle', 'rb') as out_data:\n",
    "        predFC_train, predFC_test = pickle.load(out_data)\n",
    "    with open('../data/result_out/HCPD/rewired_GCN_dim128lr0.001b2ep400reg0.0001prelu.pickle', 'rb') as out_data:\n",
    "        predFC_train_re, predFC_test_re, predFC_test_re_rewTest = pickle.load(out_data)\n",
    "    SC_mask = HCPD_sc_mask\n",
    "\n",
    "\n",
    "else:\n",
    "    with open('../data/preprocessed_data/ABCD_SC_FC_reSC_info_1572_4run.pickle', 'rb') as out_data:\n",
    "            (SC, FC, SC_re, info) = pickle.load(out_data)\n",
    "    with open('../data/result_out/ABCD/GCN_dim128lr0.001b2ep400reg0.0001prelu.pickle', 'rb') as out_data:\n",
    "        predFC_train, predFC_test = pickle.load(out_data)\n",
    "    with open('../data/result_out/ABCD/rewired_GCN_dim128lr0.001b2ep400reg0.0001prelu.pickle', 'rb') as out_data:\n",
    "        predFC_train_re, predFC_test_re, predFC_test_re_rewTest = pickle.load(out_data)\n",
    "    SC_mask = ABCD_sc_mask\n",
    "\n",
    "SC_train, SC_test, FC_train, FC_test, SC_train_re, SC_test_re, = train_test_split(SC, FC,SC_re, test_size=0.5,  random_state=0)\n",
    "\n",
    "\n",
    "SC_mask_flatten = flatten_symmetric_matrix(SC_mask)\n",
    "SC_mask_flatten_index = np.where(SC_mask_flatten==1)[0]\n",
    "SC_mask_flatten_index_zero = np.where(SC_mask_flatten==0)[0]"
   ],
   "metadata": {
    "collapsed": false,
    "pycharm": {
     "name": "#%%\n"
    }
   }
  },
  {
   "cell_type": "code",
   "execution_count": 8,
   "outputs": [],
   "source": [
    "mean_SC = np.mean(SC, axis=0)\n",
    "mean_FC = np.mean(np.tanh(FC), axis=0)\n",
    "mean_predFC = np.mean(np.tanh(predFC_test), axis=0)"
   ],
   "metadata": {
    "collapsed": false,
    "pycharm": {
     "name": "#%%\n"
    }
   }
  },
  {
   "cell_type": "code",
   "execution_count": 9,
   "outputs": [],
   "source": [
    "sio.savemat('../result_plot/temp_data/' + dataset_type + '_mean_SC_FC_predFC.mat', {'mean_SC': mean_SC, 'mean_FC':mean_FC, 'mean_predFC': mean_predFC})"
   ],
   "metadata": {
    "collapsed": false,
    "pycharm": {
     "name": "#%%\n"
    }
   }
  },
  {
   "cell_type": "code",
   "execution_count": null,
   "outputs": [],
   "source": [],
   "metadata": {
    "collapsed": false,
    "pycharm": {
     "name": "#%%\n"
    }
   }
  }
 ],
 "metadata": {
  "kernelspec": {
   "display_name": "Python 3",
   "language": "python",
   "name": "python3"
  },
  "language_info": {
   "codemirror_mode": {
    "name": "ipython",
    "version": 2
   },
   "file_extension": ".py",
   "mimetype": "text/x-python",
   "name": "python",
   "nbconvert_exporter": "python",
   "pygments_lexer": "ipython2",
   "version": "2.7.6"
  }
 },
 "nbformat": 4,
 "nbformat_minor": 0
}
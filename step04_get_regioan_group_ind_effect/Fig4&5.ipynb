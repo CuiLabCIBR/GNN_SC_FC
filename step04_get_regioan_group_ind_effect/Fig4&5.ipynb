{
 "cells": [
  {
   "cell_type": "code",
   "execution_count": 2,
   "outputs": [],
   "source": [
    "import sys\n",
    "sys.path.append(\"../functions\")\n",
    "import pickle\n",
    "import matplotlib.pyplot as plt\n",
    "import pandas as pd\n",
    "import scipy.stats as stats\n",
    "from utils import *\n",
    "import scipy.io as sio\n",
    "import statsmodels.api as sm\n",
    "from statsmodels.stats.multitest import multipletests\n",
    "from enigmatoolbox.permutation_testing import spin_test"
   ],
   "metadata": {
    "collapsed": false,
    "pycharm": {
     "name": "#%%\n"
    }
   }
  },
  {
   "cell_type": "code",
   "execution_count": 3,
   "outputs": [],
   "source": [
    "file = pd.read_csv(\"../data/info/Sensorimotor_Association_Axis_AverageRanks.csv\")\n",
    "sa_rank = file['finalrank.wholebrain'].values\n",
    "region2index_dict, index2region_dict, name = get_intrinsic_index(if_left_right=False)"
   ],
   "metadata": {
    "collapsed": false,
    "pycharm": {
     "name": "#%%\n"
    }
   }
  },
  {
   "cell_type": "code",
   "execution_count": 16,
   "outputs": [],
   "source": [
    "SC_mask_type = 75\n",
    "\n",
    "with open('../data/result_out_2/HCPA/SC/HCPA_roi_gp_ind_t_p_' + str(SC_mask_type) + '.pickle',\n",
    "              'rb') as out_data:\n",
    "    (HCPA_SC_FC_match_roi, HCPA_SC_FC_mismatch_roi, HCPA_SC_FC_gp, HCPA_SC_FC_ind, HCPA_SC_FC_ind_t, HCPA_SC_FC_ind_p) = pickle.load(out_data)\n",
    "\n",
    "with open('../data/result_out_2/HCPA/Pred/HCPA_roi_gp_ind_t_p.pickle',\n",
    "              'rb') as out_data:\n",
    "    (HCPA_predFC_FC_match_roi, HCPA_predFC_FC_mismatch_roi, HCPA_predFC_FC_gp, HCPA_predFC_FC_ind, HCPA_predFC_FC_ind_t, HCPA_predFC_FC_ind_p) = pickle.load(out_data)\n",
    "\n",
    "with open('../data/result_out_2/HCPD/SC/HCPD_roi_gp_ind_t_p_' + str(SC_mask_type) + '.pickle',\n",
    "              'rb') as out_data:\n",
    "    (HCPD_SC_FC_match_roi, HCPD_SC_FC_mismatch_roi, HCPD_SC_FC_gp, HCPD_SC_FC_ind, HCPD_SC_FC_ind_t, HCPD_SC_FC_ind_p) = pickle.load(out_data)\n",
    "\n",
    "with open('../data/result_out_2/HCPD/Pred/HCPD_roi_gp_ind_t_p.pickle',\n",
    "              'rb') as out_data:\n",
    "    (HCPD_predFC_FC_match_roi, HCPD_predFC_FC_mismatch_roi, HCPD_predFC_FC_gp, HCPD_predFC_FC_ind, HCPD_predFC_FC_ind_t, HCPD_predFC_FC_ind_p) = pickle.load(out_data)\n",
    "\n",
    "with open('../data/result_out_2/ABCD/SC/ABCD_roi_gp_ind_t_p_' + str(SC_mask_type) + '.pickle',\n",
    "              'rb') as out_data:\n",
    "    (ABCD_SC_FC_match_roi, ABCD_SC_FC_mismatch_roi, ABCD_SC_FC_gp, ABCD_SC_FC_ind, ABCD_SC_FC_ind_t, ABCD_SC_FC_ind_p) = pickle.load(out_data)\n",
    "\n",
    "with open('../data/result_out_2/ABCD/Pred/ABCD_roi_gp_ind_t_p.pickle',\n",
    "              'rb') as out_data:\n",
    "    (ABCD_predFC_FC_match_roi, ABCD_predFC_FC_mismatch_roi, ABCD_predFC_FC_gp, ABCD_predFC_FC_ind, ABCD_predFC_FC_ind_t, ABCD_predFC_FC_ind_p) = pickle.load(out_data)\n"
   ],
   "metadata": {
    "collapsed": false,
    "pycharm": {
     "name": "#%%\n"
    }
   }
  },
  {
   "cell_type": "code",
   "execution_count": null,
   "outputs": [],
   "source": [
    "sio.savemat('result_plot/temp_data/sc_roi_gp_ind.mat', {'HCPA_roi_gp':HCPA_SC_FC_gp, 'HCPD_roi_gp':HCPD_SC_FC_gp, 'ABCD_roi_gp':ABCD_SC_FC_gp, 'HCPA_roi_ind':HCPA_SC_FC_ind, 'HCPD_roi_ind':HCPD_SC_FC_ind, 'ABCD_roi_ind':ABCD_SC_FC_ind})"
   ],
   "metadata": {
    "collapsed": false,
    "pycharm": {
     "name": "#%%\n"
    }
   }
  },
  {
   "cell_type": "code",
   "execution_count": 75,
   "outputs": [],
   "source": [
    "sio.savemat('result_plot/temp_data/pred_roi_gp_ind.mat', {'HCPA_roi_gp':HCPA_predFC_FC_gp, 'HCPD_roi_gp':HCPD_predFC_FC_gp, 'ABCD_roi_gp':ABCD_predFC_FC_gp, 'HCPA_roi_ind':HCPA_predFC_FC_ind, 'HCPD_roi_ind':HCPD_predFC_FC_ind, 'ABCD_roi_ind':ABCD_predFC_FC_ind})"
   ],
   "metadata": {
    "collapsed": false,
    "pycharm": {
     "name": "#%%\n"
    }
   }
  },
  {
   "cell_type": "code",
   "execution_count": 5,
   "outputs": [
    {
     "name": "stdout",
     "output_type": "stream",
     "text": [
      "-0.03215289287545381 0.06927444934025732\n",
      "-0.021049647397101495 0.07314270653341\n",
      "-0.04576805077129635 0.06146125722252881\n"
     ]
    }
   ],
   "source": [
    "HCPA_SC_FC_ind_rate = HCPA_SC_FC_ind/(HCPA_SC_FC_ind + HCPA_SC_FC_gp)\n",
    "HCPD_SC_FC_ind_rate = HCPD_SC_FC_ind/(HCPD_SC_FC_ind + HCPD_SC_FC_gp)\n",
    "ABCD_SC_FC_ind_rate = ABCD_SC_FC_ind/(ABCD_SC_FC_ind + ABCD_SC_FC_gp)\n",
    "\n",
    "print(np.min(HCPA_SC_FC_ind_rate), np.max(HCPA_SC_FC_ind_rate))\n",
    "print(np.min(HCPD_SC_FC_ind_rate), np.max(HCPD_SC_FC_ind_rate))\n",
    "print(np.min(ABCD_SC_FC_ind_rate), np.max(ABCD_SC_FC_ind_rate))"
   ],
   "metadata": {
    "collapsed": false,
    "pycharm": {
     "name": "#%%\n"
    }
   }
  },
  {
   "cell_type": "code",
   "execution_count": 12,
   "outputs": [
    {
     "name": "stdout",
     "output_type": "stream",
     "text": [
      "SignificanceResult(statistic=0.3659107869424184, pvalue=4.06028595839342e-14)\n",
      "SignificanceResult(statistic=0.43001612510078185, pvalue=1.963708308688408e-19)\n",
      "SignificanceResult(statistic=0.4087287420546378, pvalue=1.539040563826194e-17)\n",
      "SignificanceResult(statistic=0.5333420208876305, pvalue=8.809254366353724e-31)\n",
      "SignificanceResult(statistic=0.5964153525959537, pvalue=6.7804423830897066e-40)\n",
      "SignificanceResult(statistic=0.607201920012, pvalue=1.1595056146552343e-41)\n"
     ]
    }
   ],
   "source": [
    "print(stats.spearmanr(HCPA_SC_FC_ind, HCPD_SC_FC_ind))\n",
    "print(stats.spearmanr(HCPA_SC_FC_ind, ABCD_SC_FC_ind))\n",
    "print(stats.spearmanr(HCPD_SC_FC_ind, ABCD_SC_FC_ind))\n",
    "\n",
    "print(stats.spearmanr(HCPA_SC_FC_gp, HCPD_SC_FC_gp))\n",
    "print(stats.spearmanr(HCPA_SC_FC_gp, ABCD_SC_FC_gp))\n",
    "print(stats.spearmanr(HCPD_SC_FC_gp, ABCD_SC_FC_gp))\n"
   ],
   "metadata": {
    "collapsed": false,
    "pycharm": {
     "name": "#%%\n"
    }
   }
  },
  {
   "cell_type": "code",
   "execution_count": 18,
   "outputs": [
    {
     "name": "stdout",
     "output_type": "stream",
     "text": [
      "SignificanceResult(statistic=0.3525582659891624, pvalue=3.7681892089406147e-13)\n",
      "SignificanceResult(statistic=0.4036945230907692, pvalue=4.128605751886483e-17)\n",
      "SignificanceResult(statistic=0.4877916111975699, pvalue=2.665940395733693e-25)\n",
      "SignificanceResult(statistic=0.8050495940599628, pvalue=2.7012127283582406e-92)\n",
      "SignificanceResult(statistic=0.6701008756304727, pvalue=1.8109764286605296e-53)\n",
      "SignificanceResult(statistic=0.9083852399077493, pvalue=8.450724330130098e-153)\n"
     ]
    }
   ],
   "source": [
    "print(stats.spearmanr(HCPA_predFC_FC_ind, HCPD_predFC_FC_ind))\n",
    "print(stats.spearmanr(HCPA_predFC_FC_ind, ABCD_predFC_FC_ind))\n",
    "print(stats.spearmanr(HCPD_predFC_FC_ind, ABCD_predFC_FC_ind))\n",
    "\n",
    "print(stats.spearmanr(HCPA_predFC_FC_gp, HCPD_predFC_FC_gp))\n",
    "print(stats.spearmanr(HCPA_predFC_FC_gp, ABCD_predFC_FC_gp))\n",
    "print(stats.spearmanr(HCPD_predFC_FC_gp, ABCD_predFC_FC_gp))\n"
   ],
   "metadata": {
    "collapsed": false,
    "pycharm": {
     "name": "#%%\n"
    }
   }
  },
  {
   "cell_type": "code",
   "execution_count": 13,
   "outputs": [
    {
     "name": "stdout",
     "output_type": "stream",
     "text": [
      "SignificanceResult(statistic=-0.37618451721514096, pvalue=6.804566872368393e-15)\n",
      "SignificanceResult(statistic=-0.26335080909742214, pvalue=9.032855584089592e-08)\n",
      "SignificanceResult(statistic=-0.3102838378784049, pvalue=2.2461162576247466e-10)\n",
      "SignificanceResult(statistic=-0.01533049668583927, pvalue=0.7598571647895558)\n",
      "SignificanceResult(statistic=-0.11382474723409323, pvalue=0.02279967868689357)\n",
      "SignificanceResult(statistic=0.0006064735638847767, pvalue=0.9903526034134168)\n",
      "SignificanceResult(statistic=0.0740479627997675, pvalue=0.13931284866966745)\n",
      "SignificanceResult(statistic=0.04780811130069562, pvalue=0.3402277493703869)\n",
      "SignificanceResult(statistic=0.12947124669529184, pvalue=0.009535308586104003)\n"
     ]
    }
   ],
   "source": [
    "print(stats.spearmanr(HCPA_SC_FC_gp, sa_rank))\n",
    "print(stats.spearmanr(HCPD_SC_FC_gp, sa_rank))\n",
    "print(stats.spearmanr(ABCD_SC_FC_gp, sa_rank))\n",
    "print(stats.spearmanr(HCPA_SC_FC_ind, sa_rank))\n",
    "print(stats.spearmanr(HCPD_SC_FC_ind, sa_rank))\n",
    "print(stats.spearmanr(ABCD_SC_FC_ind, sa_rank))\n",
    "print(stats.spearmanr(HCPA_SC_FC_gp, HCPA_SC_FC_ind))\n",
    "print(stats.spearmanr(HCPD_SC_FC_gp, HCPD_SC_FC_ind))\n",
    "print(stats.spearmanr(ABCD_SC_FC_gp, ABCD_SC_FC_ind))"
   ],
   "metadata": {
    "collapsed": false,
    "pycharm": {
     "name": "#%%\n"
    }
   }
  },
  {
   "cell_type": "code",
   "execution_count": 9,
   "outputs": [
    {
     "name": "stdout",
     "output_type": "stream",
     "text": [
      "SignificanceResult(statistic=-0.35160616587444216, pvalue=4.399512111481447e-13)\n",
      "SignificanceResult(statistic=-0.2900046144120398, pvalue=3.4333516390518105e-09)\n",
      "SignificanceResult(statistic=-0.2701435192645688, pvalue=4.0574334104497803e-08)\n",
      "SignificanceResult(statistic=0.30397797532561194, pvalue=5.364850847481507e-10)\n",
      "SignificanceResult(statistic=0.21960802438900623, pvalue=9.30851871354677e-06)\n",
      "SignificanceResult(statistic=0.2453821664712957, pvalue=6.749057370279864e-07)\n",
      "SignificanceResult(statistic=-0.383924399527497, pvalue=1.698007562201144e-15)\n",
      "SignificanceResult(statistic=-0.3737085856786605, pvalue=1.0526543711686078e-14)\n",
      "SignificanceResult(statistic=-0.24074606716291974, pvalue=1.1064824317799418e-06)\n"
     ]
    }
   ],
   "source": [
    "print(stats.spearmanr(HCPA_predFC_FC_gp, sa_rank))\n",
    "print(stats.spearmanr(HCPD_predFC_FC_gp, sa_rank))\n",
    "print(stats.spearmanr(ABCD_predFC_FC_gp, sa_rank))\n",
    "print(stats.spearmanr(HCPA_predFC_FC_ind, sa_rank))\n",
    "print(stats.spearmanr(HCPD_predFC_FC_ind, sa_rank))\n",
    "print(stats.spearmanr(ABCD_predFC_FC_ind, sa_rank))\n",
    "print(stats.spearmanr(HCPA_predFC_FC_gp, HCPA_predFC_FC_ind))\n",
    "print(stats.spearmanr(HCPD_predFC_FC_gp, HCPD_predFC_FC_ind))\n",
    "print(stats.spearmanr(ABCD_predFC_FC_gp, ABCD_predFC_FC_ind))"
   ],
   "metadata": {
    "collapsed": false,
    "pycharm": {
     "name": "#%%\n"
    }
   }
  },
  {
   "cell_type": "code",
   "execution_count": 17,
   "outputs": [
    {
     "name": "stdout",
     "output_type": "stream",
     "text": [
      "SignificanceResult(statistic=0.3890291189319933, pvalue=6.660316328035815e-16)\n",
      "SignificanceResult(statistic=0.2698359364746029, pvalue=4.209197941838972e-08)\n",
      "SignificanceResult(statistic=0.35460296626853915, pvalue=2.6970834240445267e-13)\n",
      "SignificanceResult(statistic=0.48026118913243204, pvalue=1.800012662370114e-24)\n",
      "SignificanceResult(statistic=0.30092756829730183, pvalue=8.114324004776816e-10)\n",
      "SignificanceResult(statistic=0.4403240020250126, pvalue=2.120945359185195e-20)\n"
     ]
    }
   ],
   "source": [
    "print(stats.spearmanr(HCPA_SC_FC_ind, HCPA_predFC_FC_ind))\n",
    "print(stats.spearmanr(HCPD_SC_FC_ind, HCPD_predFC_FC_ind))\n",
    "print(stats.spearmanr(ABCD_SC_FC_ind, ABCD_predFC_FC_ind))\n",
    "\n",
    "print(stats.spearmanr(HCPA_SC_FC_gp, HCPA_predFC_FC_gp))\n",
    "print(stats.spearmanr(HCPD_SC_FC_gp, HCPD_predFC_FC_gp))\n",
    "print(stats.spearmanr(ABCD_SC_FC_gp, ABCD_predFC_FC_gp))"
   ],
   "metadata": {
    "collapsed": false,
    "pycharm": {
     "name": "#%%\n"
    }
   }
  },
  {
   "cell_type": "code",
   "execution_count": null,
   "outputs": [],
   "source": [],
   "metadata": {
    "collapsed": false,
    "pycharm": {
     "name": "#%%\n"
    }
   }
  }
 ],
 "metadata": {
  "kernelspec": {
   "name": "tf",
   "language": "python",
   "display_name": "tf"
  },
  "language_info": {
   "codemirror_mode": {
    "name": "ipython",
    "version": 2
   },
   "file_extension": ".py",
   "mimetype": "text/x-python",
   "name": "python",
   "nbconvert_exporter": "python",
   "pygments_lexer": "ipython2",
   "version": "2.7.6"
  }
 },
 "nbformat": 4,
 "nbformat_minor": 0
}